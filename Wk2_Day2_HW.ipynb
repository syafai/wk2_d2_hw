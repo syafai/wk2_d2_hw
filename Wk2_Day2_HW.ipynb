{
 "cells": [
  {
   "cell_type": "code",
   "execution_count": 50,
   "id": "241abdff",
   "metadata": {},
   "outputs": [
    {
     "name": "stdout",
     "output_type": "stream",
     "text": [
      "[1, 5, 8, 9]\n"
     ]
    }
   ],
   "source": [
    "#Exercise 1\n",
    "#Using the given list, print out a filtered version of the list with only the numbers that are less than ten\n",
    "\n",
    "alist = [1,11,14,5,8,9]\n",
    "blist = []\n",
    " \n",
    "blist = []\n",
    "for i in alist:\n",
    "    if i not in blist and i < 10:\n",
    "        blist.append(i)\n",
    "print(blist)\n",
    "\n",
    "\n"
   ]
  },
  {
   "cell_type": "code",
   "execution_count": null,
   "id": "7d26528f",
   "metadata": {},
   "outputs": [],
   "source": [
    "#Exercise 2\n",
    "#Merge and sort the two lists below\n",
    "\n",
    "\n",
    "l_1 = [1,2,3,4,5,6]\n",
    "l_2 = [3,4,5,6,7,8,10]\n",
    "\n",
    "new_list = l_1\n",
    "new_list += l_2\n",
    "print(f\"This is the combined list {new_list}\")\n",
    "print(new_list.sort())\n",
    "print(new_list)\n"
   ]
  },
  {
   "cell_type": "code",
   "execution_count": null,
   "id": "7ff3949e",
   "metadata": {},
   "outputs": [],
   "source": [
    "#Exercise 3\n",
    "#Square every number from 1 to 15\n",
    "\n",
    "for num in range(1,16):\n",
    "    print(num**2)"
   ]
  },
  {
   "cell_type": "code",
   "execution_count": 5,
   "id": "fc16083c",
   "metadata": {},
   "outputs": [
    {
     "name": "stdout",
     "output_type": "stream",
     "text": [
      "['Amy', 'Alex']\n"
     ]
    }
   ],
   "source": [
    "#Exercise 4\n",
    "#Using List Comprehension and the given list, print out a filtered list with only the names that start with the letter 'a'. The names in the outputted list should be title cased and have no whitespace.\n",
    "#expected output = ['Amy', 'Alex']\n",
    "\n",
    "names_list = ['   amy', 'Briant', 'Ryan ', ' Alex', 'steve', '  ']\n",
    "new_list = []\n",
    "\n",
    "\n",
    "for name in names_list:\n",
    "    if name.strip() != '' and name.lower().strip()[0] == 'a':\n",
    "        new_list.append(name.title().strip())\n",
    "print(new_list)\n",
    "\n"
   ]
  },
  {
   "cell_type": "code",
   "execution_count": 1,
   "id": "48154fa2",
   "metadata": {},
   "outputs": [
    {
     "name": "stdout",
     "output_type": "stream",
     "text": [
      "2\n",
      "3\n",
      "5\n",
      "7\n",
      "11\n",
      "13\n",
      "17\n",
      "19\n",
      "23\n",
      "29\n",
      "31\n",
      "37\n",
      "41\n",
      "43\n",
      "47\n",
      "53\n",
      "59\n",
      "61\n",
      "67\n",
      "71\n",
      "73\n",
      "79\n",
      "83\n",
      "89\n",
      "97\n"
     ]
    }
   ],
   "source": [
    "#Exercise 5\n",
    "#Print all Prime numbers from 1 to 100\n",
    "#no even numbers are prime\n",
    "#only odd\n",
    "\n",
    "for prime in range (1, 101):\n",
    "    num = 0\n",
    "    for i in range(2, (prime//2 + 1)):\n",
    "        if(prime % i == 0):\n",
    "            num = num + 1\n",
    "            break\n",
    "\n",
    "    if (num == 0 and prime != 1):\n",
    "        print(prime)"
   ]
  },
  {
   "cell_type": "code",
   "execution_count": null,
   "id": "91a656d6",
   "metadata": {},
   "outputs": [],
   "source": []
  }
 ],
 "metadata": {
  "kernelspec": {
   "display_name": "Python 3 (ipykernel)",
   "language": "python",
   "name": "python3"
  },
  "language_info": {
   "codemirror_mode": {
    "name": "ipython",
    "version": 3
   },
   "file_extension": ".py",
   "mimetype": "text/x-python",
   "name": "python",
   "nbconvert_exporter": "python",
   "pygments_lexer": "ipython3",
   "version": "3.10.9"
  }
 },
 "nbformat": 4,
 "nbformat_minor": 5
}
